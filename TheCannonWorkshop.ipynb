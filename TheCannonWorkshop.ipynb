{
 "cells": [
  {
   "cell_type": "markdown",
   "id": "70e16484-4732-43c2-938b-97468ec5e169",
   "metadata": {},
   "source": [
    "# The Cannon Workshop\n",
    "#### Import important python packages"
   ]
  },
  {
   "cell_type": "code",
   "execution_count": 29,
   "id": "6d694b08-82ce-42f6-9756-4ac793b5de2a",
   "metadata": {},
   "outputs": [],
   "source": [
    "import numpy as np\n",
    "import pandas as pd\n",
    "import matplotlib.pyplot as plt\n",
    "\n",
    "from astropy.io import fits\n",
    "from astropy.table import Table\n",
    "\n",
    "from IPython.display import clear_output\n",
    "\n",
    "import thecannon as tc"
   ]
  },
  {
   "cell_type": "markdown",
   "id": "6bccb010-55c8-4900-8e6e-ebb379e8edc1",
   "metadata": {},
   "source": [
    "#### Useful functions we'll use throughout the workshop"
   ]
  },
  {
   "cell_type": "code",
   "execution_count": 449,
   "id": "7b14a397-800c-421d-9258-4068e957b0ea",
   "metadata": {},
   "outputs": [],
   "source": [
    "def convert_labels_into_training_set_labels(list_of_all_labels, labels):\n",
    "    \"\"\"\n",
    "    Create a training set labels table with the specified labels.\n",
    "\n",
    "    Args:\n",
    "        list_of_all_labels (list or pandas.DataFrame): A list or pandas DataFrame containing all possible labels.\n",
    "        labels (list): A list of labels (str) to include in the training set.\n",
    "\n",
    "    Returns:\n",
    "        training_set_labels (astropy.Table): An astropy Table containing only the specified labels.\n",
    "    \"\"\"\n",
    "    trainingset = Table.from_pandas(list_of_all_labels)\n",
    "    \n",
    "    training_set_labels = Table()\n",
    "    for label in labels:\n",
    "        training_set_labels[label] = trainingset[label]\n",
    "        \n",
    "    return training_set_labels\n",
    "\n",
    "def plot_1to1(test_labels,original_labels,model_labels):\n",
    "    \"\"\"\n",
    "    Create a 1-to-1 scatter plot comparing predicted and expected labels.\n",
    "\n",
    "    Args:\n",
    "        test_labels (numpy.ndarray): Array of predicted labels.\n",
    "        original_labels (pandas.DataFrame): DataFrame of original labels.\n",
    "        model_labels (list): List of label names to be plotted.\n",
    "\n",
    "    Returns:\n",
    "        None - displays a plot\n",
    "    \"\"\"\n",
    "    ncols = 2\n",
    "    nrows = int(np.ceil(len(model_labels)/2))\n",
    "    \n",
    "    fig, ax = plt.subplots(nrows,ncols,figsize=(5*ncols,5*nrows))\n",
    "    \n",
    "    for idx,axes in enumerate(ax.flatten()):\n",
    "        if idx==len(model_labels):\n",
    "            break\n",
    "        else:\n",
    "            axes.scatter(original_labels[model_labels[idx]],test_labels[:,idx],s=10)\n",
    "            buffer = (max(test_labels[:,idx])-min(test_labels[:,idx]))/3\n",
    "            axes.set_xlim(min(test_labels[:,idx])-buffer,max(test_labels[:,idx])+buffer)\n",
    "            axes.set_ylim(min(test_labels[:,idx])-buffer,max(test_labels[:,idx])+buffer)\n",
    "            axes.plot([0, 1], [0, 1], transform=axes.transAxes,color='k',ls='dashed',lw=1)\n",
    "            axes.set_xlabel(f\"Expected {model_labels[idx]}\",fontsize=12)\n",
    "            axes.set_ylabel(f\"Cannon Predicted {model_labels[idx]}\",fontsize=12)\n",
    "            \n",
    "def plot_coefficient(term,model,model_labels,linelist=line_list,xlim=None):\n",
    "    \"\"\"\n",
    "    Plot the coefficient of a specific term in the model.\n",
    "\n",
    "    Args:\n",
    "        term (str): The term for which the coefficient will be plotted.\n",
    "        model (object): The Cannon model containing the coefficient values.\n",
    "        model_labels (list): List of label names in the model.\n",
    "        linelist (pandas.DataFrame, optional): DataFrame containing a list of wavelengths and species names.\n",
    "                                               Defaults to line_list.\n",
    "        xlim (tuple, optional): The limits of the x-axis. Defaults to None.\n",
    "\n",
    "    Returns:\n",
    "        None - displays a plot\n",
    "    \"\"\"\n",
    "    theta_idx = model_labels.index(term)+1\n",
    "    \n",
    "    fig, ax = plt.subplots(2,1,figsize=(15,7),sharex=True)\n",
    "    plt.subplots_adjust(hspace=0.05)\n",
    "    \n",
    "    ax[0].plot(model.dispersion,model.theta[:,0])\n",
    "    ax[0].set_ylabel('Stellar Flux',fontsize=12)\n",
    "    ax[1].plot(model.dispersion,model.theta[:,theta_idx],label=term)\n",
    "    ax[1].set_ylabel(term+' coefficient',fontsize=12)\n",
    "    ax[1].set_xlabel(r\"Wavelength [$\\AA$]\",fontsize=12)\n",
    "    ax[0].set_ylim(0,1.3)\n",
    "    \n",
    "    if xlim==None:\n",
    "        subset = linelist[(linelist['Wavelength']>=model.dispersion.min()) & (linelist['Wavelength']<=model.dispersion.max())]\n",
    "        xlim = ax[0].get_xlim()\n",
    "    else:\n",
    "        subset = linelist[(linelist['Wavelength']>=min(xlim)) & (linelist['Wavelength']<=max(xlim))]\n",
    "        ax[0].set_xlim(xlim)\n",
    "        \n",
    "    yshift = (max(xlim)-min(xlim))/200\n",
    "    for i in subset.index:\n",
    "        ax[0].arrow(x=subset['Wavelength'][i],y=1.1,dx=0,dy=-0.08)\n",
    "        ax[0].text(x=subset['Wavelength'][i]-yshift,y=1.14,s=subset['Species'][i].split()[0],rotation=90)\n",
    "        \n",
    "def compare_models_theta(model1,model2,term,model_labels):\n",
    "    \"\"\"\n",
    "    Compare the coefficient of a specific term between two models.\n",
    "\n",
    "    Args:\n",
    "        model1 (object): The first model object.\n",
    "        model2 (object): The second model object.\n",
    "        term (str): The term for which the coefficient will be compared.\n",
    "        model_labels (list): List of label names in the models.\n",
    "\n",
    "    Returns:\n",
    "        None - displays a plot\n",
    "    \"\"\"\n",
    "    fig, ax = plt.subplots(1,1,figsize=(15,5))\n",
    "\n",
    "    theta_idx = model_labels.index(term)+1\n",
    "\n",
    "    ax.plot(model1.dispersion,model1.theta[:,theta_idx],label='model 1',alpha=1)\n",
    "    ax.plot(model2.dispersion,model2.theta[:,theta_idx],label='model 2',alpha=0.7)\n",
    "    ax.legend()\n",
    "\n",
    "    ax.set_xlabel(\"Wavelength [$\\AA$]\",fontsize=12)\n",
    "    ax.set_ylabel(f\"{term} coefficient\",fontsize=12)\n",
    "    \n",
    "def compare_models_1to1(test_labels1,test_set1,test_labels2,test_set2,label,model_labels):\n",
    "    fig, ax = plt.subplots(1,2,figsize=(12,5))\n",
    "    \n",
    "    idx = model_labels.index(label)\n",
    "    \n",
    "    ax[0].scatter(test_set1[model_labels[idx]],test_labels1[:,idx],s=10)\n",
    "    buffer = (max(test_labels1[:,idx])-min(test_labels1[:,idx]))/3\n",
    "    ax[0].set_xlim(min(test_labels1[:,idx])-buffer,max(test_labels1[:,idx])+buffer)\n",
    "    ax[0].set_ylim(min(test_labels1[:,idx])-buffer,max(test_labels1[:,idx])+buffer)\n",
    "    ax[0].plot([0, 1], [0, 1], transform=ax[0].transAxes,color='k',ls='dashed',lw=1)\n",
    "    ax[0].set_xlabel(f\"Expected {label}\",fontsize=12)\n",
    "    ax[0].set_ylabel(f\"Cannon Predicted {label}\",fontsize=12)\n",
    "    ax[0].set_title('Model 1')\n",
    "    \n",
    "    ax[1].scatter(test_set2[model_labels[idx]],test_labels2[:,idx],s=10)\n",
    "    buffer = (max(test_labels2[:,idx])-min(test_labels2[:,idx]))/3\n",
    "    ax[1].set_xlim(min(test_labels2[:,idx])-buffer,max(test_labels2[:,idx])+buffer)\n",
    "    ax[1].set_ylim(min(test_labels2[:,idx])-buffer,max(test_labels2[:,idx])+buffer)\n",
    "    ax[1].plot([0, 1], [0, 1], transform=ax[1].transAxes,color='k',ls='dashed',lw=1)\n",
    "    ax[1].set_xlabel(f\"Expected {label}\",fontsize=12)\n",
    "    ax[1].set_ylabel(f\"Cannon Predicted {label}\",fontsize=12)\n",
    "    ax[1].set_title(\"Model 2\")"
   ]
  },
  {
   "cell_type": "markdown",
   "id": "7ff8dc6a-f474-4a11-b6a6-d4db8da530f7",
   "metadata": {},
   "source": [
    "#### Load data necessary for The Cannon"
   ]
  },
  {
   "cell_type": "code",
   "execution_count": 416,
   "id": "36d58efa-3d36-4fd6-abf7-718405c38e4f",
   "metadata": {},
   "outputs": [],
   "source": [
    "# This loads in the labels we'll use to train The Cannon\n",
    "all_labels = pd.read_csv('./labels.csv')\n",
    "\n",
    "# This loads in the data we're going to use\n",
    "flux_all = []\n",
    "errs_all = []\n",
    "\n",
    "for i in all_labels['sobject_id'].values:\n",
    "    with fits.open(f\"./data/{str(i)}.fits\") as data:\n",
    "        dispersion = data[1].data\n",
    "        flux_all.append(data[0].data)\n",
    "        errs_all.append(data[2].data)\n",
    "    \n",
    "flux_all = np.array(flux_all)\n",
    "errs_all = np.array(errs_all)\n",
    "ivar_all = 1/errs_all**2\n",
    "\n",
    "# This is a list of atomic lines identified in the spectra we're analysing\n",
    "line_list = pd.read_csv('./lines.csv')"
   ]
  },
  {
   "cell_type": "markdown",
   "id": "1b96b11b-4147-47fb-9345-19ec091e25e0",
   "metadata": {},
   "source": [
    "## Separating the training objects from the test objects\n",
    "Here we're going to separate the total data set into a training set of size $N$ and test set"
   ]
  },
  {
   "cell_type": "code",
   "execution_count": 417,
   "id": "c5638757-3dd2-4baf-a7d2-5f3fc32924d3",
   "metadata": {},
   "outputs": [],
   "source": [
    "# Generate a list of 100 random sobject_id entries with no repeats\n",
    "\n",
    "\n",
    "\n",
    "# Separate the all_labels DataFrame into training and test sets based on the above list\n",
    "\n",
    "\n",
    "\n",
    "# Separate training/test flux and ivars\n",
    "\n",
    "\n"
   ]
  },
  {
   "cell_type": "markdown",
   "id": "5e9592ae-6be0-4a11-b815-37e9084293d3",
   "metadata": {},
   "source": [
    "## Setting up The Cannon model\n",
    "What we need:\n",
    "* training set labels\n",
    "* training set flux\n",
    "* training set invariances\n",
    "* a vectoriser to declare the polynomial function used to predict each flux pixel (and the subsequent order of that polynomial)\n",
    "* the dispersion (optional)"
   ]
  },
  {
   "cell_type": "code",
   "execution_count": 457,
   "id": "c88ff707-5ebe-4689-989c-c40fef63e115",
   "metadata": {},
   "outputs": [],
   "source": [
    "# Let's set up The Cannon model\n",
    "# Declare the order of your polynomial\n",
    "\n",
    "\n",
    "# Which labels are we going to use in our model?\n",
    "\n",
    "\n",
    "# Set up a model file name based on those labels\n",
    "\n",
    "\n",
    "# Set up the atraining set labels Table\n",
    "\n",
    "\n",
    "# Declare The Cannon model\n",
    "\n"
   ]
  },
  {
   "cell_type": "markdown",
   "id": "da4880a2-b9b9-46e6-b34e-9a7ae7d7b758",
   "metadata": {},
   "source": [
    "## Training The Cannon model"
   ]
  },
  {
   "cell_type": "code",
   "execution_count": 455,
   "id": "8799b459-7b54-4c9a-a505-76835365a23e",
   "metadata": {
    "scrolled": true,
    "tags": []
   },
   "outputs": [],
   "source": [
    "# Write some code that will train The Cannon model we set up\n",
    "\n"
   ]
  },
  {
   "cell_type": "markdown",
   "id": "8430fbab-6050-451d-92ba-f7037a47242a",
   "metadata": {},
   "source": [
    "## Testing The Cannon model"
   ]
  },
  {
   "cell_type": "code",
   "execution_count": 456,
   "id": "7e3e45dd-1fc9-4962-89a8-9fd959aed4b3",
   "metadata": {},
   "outputs": [],
   "source": [
    "# Write some code that will perform the test step of The Cannon\n",
    "\n"
   ]
  },
  {
   "cell_type": "markdown",
   "id": "920b7d27-408f-40ba-ba8f-bbcb2503f0cb",
   "metadata": {},
   "source": [
    "## Let's look at the results!\n",
    "### Label transfer\n",
    "Let's see how well the test step went!"
   ]
  },
  {
   "cell_type": "code",
   "execution_count": 454,
   "id": "ac359309-e99e-454b-a120-1cbea935b4f1",
   "metadata": {},
   "outputs": [],
   "source": [
    "# Use the plot_1to1 function here\n",
    "\n"
   ]
  },
  {
   "cell_type": "markdown",
   "id": "7191fae8-c506-4f66-ae31-e85f993680ed",
   "metadata": {},
   "source": [
    "### Coefficients of the model\n",
    "Let's have a closer look at the model coefficients..."
   ]
  },
  {
   "cell_type": "code",
   "execution_count": 453,
   "id": "9d2729b9-4cc4-4618-89a8-e811cf080840",
   "metadata": {},
   "outputs": [],
   "source": [
    "# Use the plot_coefficients function here\n",
    "\n"
   ]
  },
  {
   "cell_type": "markdown",
   "id": "d201f678-29ce-4e9f-914c-b06ab9912dee",
   "metadata": {},
   "source": [
    "## Let's investigate some more\n",
    "(If there's time)\n",
    "\n",
    "### What happens when we have models with different training set sizes?"
   ]
  },
  {
   "cell_type": "code",
   "execution_count": 420,
   "id": "7f672ae0-7164-448f-bdc8-17eba690e014",
   "metadata": {},
   "outputs": [],
   "source": [
    "# Copy and paste the cell where we separated training and sets sets\n",
    "# (but be sure to change the variable names!)\n",
    "\n"
   ]
  },
  {
   "cell_type": "code",
   "execution_count": 421,
   "id": "a0d21a09-744b-498f-a19f-c18ca632f89b",
   "metadata": {},
   "outputs": [],
   "source": [
    "# Copy and paste the cell where we set up The Cannon model\n",
    "# (be sure to change the variable names!)\n",
    "\n"
   ]
  },
  {
   "cell_type": "code",
   "execution_count": 422,
   "id": "f362cb20-3177-4138-bfff-8841ac695c27",
   "metadata": {
    "scrolled": true,
    "tags": []
   },
   "outputs": [],
   "source": [
    "# Copy and paste training The Cannon cell\n",
    "# (be sure to change the variable names!)\n",
    "\n"
   ]
  },
  {
   "cell_type": "code",
   "execution_count": null,
   "id": "687af34a-2000-4b32-ac47-8cc5fb04443d",
   "metadata": {},
   "outputs": [],
   "source": [
    "# Copy and paste the testing cell\n",
    "# (be sure to change the variable names!)\n",
    "\n"
   ]
  },
  {
   "cell_type": "markdown",
   "id": "c823a6ab-77b9-4ad0-b6fb-71aa8f5ef40c",
   "metadata": {},
   "source": [
    "### Let's compare the coefficients"
   ]
  },
  {
   "cell_type": "code",
   "execution_count": null,
   "id": "9d8ddd73-6c4d-43f5-9afd-0f333d9c3937",
   "metadata": {},
   "outputs": [],
   "source": []
  },
  {
   "cell_type": "markdown",
   "id": "a64d6c6d-0182-46b4-8fc1-2a70043175d2",
   "metadata": {},
   "source": [
    "### Let's compare the label transfer"
   ]
  },
  {
   "cell_type": "code",
   "execution_count": null,
   "id": "c8dbff3f-497a-4f3b-b8b4-8fc1390b928e",
   "metadata": {},
   "outputs": [],
   "source": []
  },
  {
   "cell_type": "code",
   "execution_count": null,
   "id": "44f63719-eb1f-49b3-bc42-ccba36723952",
   "metadata": {},
   "outputs": [],
   "source": []
  }
 ],
 "metadata": {
  "kernelspec": {
   "display_name": "Python 3 (ipykernel)",
   "language": "python",
   "name": "python3"
  },
  "language_info": {
   "codemirror_mode": {
    "name": "ipython",
    "version": 3
   },
   "file_extension": ".py",
   "mimetype": "text/x-python",
   "name": "python",
   "nbconvert_exporter": "python",
   "pygments_lexer": "ipython3",
   "version": "3.9.13"
  }
 },
 "nbformat": 4,
 "nbformat_minor": 5
}
